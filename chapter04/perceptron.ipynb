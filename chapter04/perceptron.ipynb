{
 "cells": [
  {
   "cell_type": "markdown",
   "metadata": {},
   "source": [
    "# The Perceptron"
   ]
  },
  {
   "cell_type": "markdown",
   "metadata": {},
   "source": [
    "The perceptron algorithm belongs to a set of what are known as **discriminative models**. These models construct a function $f: \\mathbb{R}^n \\to \\{C_k\\}_{k=1}^K$. Under this class of models, probabilities play no role. The purpose of these models, in a linear sense, is to find a hyperplane that best separates the data."
   ]
  },
  {
   "cell_type": "code",
   "execution_count": 2,
   "metadata": {},
   "outputs": [],
   "source": [
    "import numpy as np\n",
    "import matplotlib.pyplot as plt\n",
    "\n",
    "np.random.seed(2)"
   ]
  },
  {
   "cell_type": "code",
   "execution_count": 3,
   "metadata": {},
   "outputs": [],
   "source": [
    "# generate data\n",
    "means = [[2, 2], [4, 2]]\n",
    "cov = [[.3, .2], [.2, .3]]\n",
    "N = 10\n",
    "\n",
    "X0 = np.random.multivariate_normal(means[0], cov, N).T\n",
    "X1 = np.random.multivariate_normal(means[1], cov, N).T\n",
    "\n",
    "X = np.concatenate([X0, X1], axis=1)\n",
    "y = np.concatenate([np.ones((1, N)), -1*np.ones((1, N))], axis=1)\n",
    "\n",
    "# add intercept\n",
    "X = np.concatenate((np.ones((1, 2*N)), X), axis=0)"
   ]
  },
  {
   "cell_type": "code",
   "execution_count": 42,
   "metadata": {},
   "outputs": [
    {
     "data": {
      "image/png": "[encoded data removed]",
      "text/plain": [
       "<Figure size 432x288 with 1 Axes>"
      ]
     },
     "metadata": {
      "needs_background": "light"
     },
     "output_type": "display_data"
    }
   ],
   "source": [
    "plt.plot(*X0, 'b^', markersize=8, alpha=.8)\n",
    "plt.plot(*X1, 'ro', markersize=8, alpha=.8)\n",
    "plt.show()"
   ]
  },
  {
   "cell_type": "code",
   "execution_count": 37,
   "metadata": {},
   "outputs": [],
   "source": [
    "# return outcome of x given parameter w\n",
    "def h(w, x):\n",
    "    return np.sign(np.dot(w.T, x))\n",
    "\n",
    "\n",
    "# Check if PLA is converge\n",
    "def has_converged(X, y, w):\n",
    "    return np.array_equal(h(w, X), y)\n",
    "\n",
    "\n",
    "# Implementing PLA\n",
    "def perceptron(X, y, w_init):\n",
    "    w = [w_init]\n",
    "    N = X.shape[1]\n",
    "    mis_points = []\n",
    "\n",
    "    # count = 0\n",
    "    while True:\n",
    "        # count += 1\n",
    "        mix_id = np.random.permutation(N)\n",
    "        for i in range(N):\n",
    "            xi = X[:, mix_id[i]].reshape(3, 1)\n",
    "            yi = y[0, mix_id[i]]\n",
    "        \n",
    "            if h(w[-1], xi) != yi:\n",
    "                mis_points.append(mix_id[i])\n",
    "                w_new = w[-1] + yi*xi\n",
    "                \n",
    "                w.append(w_new)\n",
    "\n",
    "        if has_converged(X, y, w[-1]):\n",
    "            break\n",
    "\n",
    "\n",
    "    return w, mis_points\n"
   ]
  },
  {
   "cell_type": "code",
   "execution_count": 38,
   "metadata": {},
   "outputs": [],
   "source": [
    "# Apply PLA\n",
    "d = X.shape[0]\n",
    "w_init = np.random.randn(d, 1)\n",
    "\n",
    "(w, m) = perceptron(X, y, w_init)"
   ]
  }
 ],
 "metadata": {
  "kernelspec": {
   "display_name": "Python 3",
   "language": "python",
   "name": "python3"
  },
  "language_info": {
   "codemirror_mode": {
    "name": "ipython",
    "version": 3
   },
   "file_extension": ".py",
   "mimetype": "text/x-python",
   "name": "python",
   "nbconvert_exporter": "python",
   "pygments_lexer": "ipython3",
   "version": "3.9.0"
  }
 },
 "nbformat": 4,
 "nbformat_minor": 2
}
